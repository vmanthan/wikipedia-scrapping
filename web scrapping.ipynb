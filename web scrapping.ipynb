{
 "cells": [
  {
   "cell_type": "code",
   "execution_count": 9,
   "metadata": {},
   "outputs": [
    {
     "name": "stdout",
     "output_type": "stream",
     "text": [
      "History\n",
      "M, or m, is the thirteenth letter of the modern English alphabet and the ISO basic Latin alphabet. Its name in English is em (pronounced /ˈɛm/), plural ems.[1]\n",
      "The letter M is derived from the Phoenician Mem, via the Greek Mu (Μ, μ). Semitic Mem is most likely derived from a \"Proto-Sinaitic\"  (Bronze Age) adoption of the  \"water\" ideogram in Egyptian writing. The Egyptian sign had the acrophonic value /n/, from the Egyptian word for \"water\", nt; the adoption as the Semitic letter for /m/ was presumably also on acrophonic grounds, from the Semitic word for \"water\", *mā(y)-.[2]\n",
      "\n",
      "Use in writing systems\n",
      "The letter ⟨m⟩ represents the bilabial nasal consonant sound [m] in the orthography of Latin as well as in that of many modern languages, and also in the International Phonetic Alphabet. In English, the Oxford English Dictionary (first edition) says that ⟨m⟩ is sometimes a vowel, in words like spasm and in the suffix -ism. In modern terminology, this is described as a syllabic consonant (IPA [m̩]).\n",
      "\n",
      "Other uses\n",
      "The Roman numeral M represents the number 1000, though it was not used in Roman times. There is, however, scant evidence that the letter was later introduced in the early centuries A.D. by the Romans.[3]\n",
      "Unit prefix M (mega), meaning one million times, and m (milli) meaning one-thousandth.[4][5]\n",
      "m is the standard abbreviation for metre (or meter) in the International System of Units (SI).[4] However, m is also used as an abbreviation for mile.[5]\n",
      "M is used as the unit abbreviation for molarity.[4]\n",
      "With money amounts, m means one million: For example, $5m is five million dollars.[4][5]\n",
      "M often represents male or masculine, especially in conjunction with F for female or feminine.[4][5]\n",
      "M (James Bond) is a fictional character in Ian Fleming's James Bond book and film series.\n",
      "In typography, an em dash is a punctuation symbol whose width is equal to that of a capital letter M.\n"
     ]
    }
   ],
   "source": [
    "from bs4 import BeautifulSoup\n",
    "import requests\n",
    " \n",
    "# get URL\n",
    "page = requests.get(\"https://en.wikipedia.org/wiki/M#History\")\n",
    " \n",
    "# scrape webpage\n",
    "soup = BeautifulSoup(page.content, 'html.parser')\n",
    " \n",
    "list(soup.children)\n",
    " \n",
    "# find all occurrence of p in HTML\n",
    "# includes HTML tags\n",
    "#print(soup.find_all('p'))\n",
    " \n",
    " \n",
    "# return only text\n",
    "# does not include HTML tags\n",
    "print(soup.find_all('h2')[1].get_text())\n",
    "print(soup.find_all('p')[1].get_text(),end='')\n",
    "print(soup.find_all('p')[2].get_text())\n",
    "\n",
    "print(soup.find_all('h2')[2].get_text())\n",
    "print(soup.find_all('p')[3].get_text())\n",
    "print(soup.find_all('h2')[3].get_text())\n",
    "print(soup.find_all('li')[22].get_text())\n",
    "print(soup.find_all('li')[23].get_text())\n",
    "print(soup.find_all('li')[24].get_text())\n",
    "print(soup.find_all('li')[25].get_text())\n",
    "print(soup.find_all('li')[26].get_text())\n",
    "print(soup.find_all('li')[27].get_text())\n",
    "print(soup.find_all('li')[28].get_text())\n",
    "print(soup.find_all('li')[29].get_text())"
   ]
  },
  {
   "cell_type": "code",
   "execution_count": null,
   "metadata": {},
   "outputs": [],
   "source": []
  }
 ],
 "metadata": {
  "kernelspec": {
   "display_name": "Python 3",
   "language": "python",
   "name": "python3"
  },
  "language_info": {
   "codemirror_mode": {
    "name": "ipython",
    "version": 3
   },
   "file_extension": ".py",
   "mimetype": "text/x-python",
   "name": "python",
   "nbconvert_exporter": "python",
   "pygments_lexer": "ipython3",
   "version": "3.7.4"
  }
 },
 "nbformat": 4,
 "nbformat_minor": 2
}
